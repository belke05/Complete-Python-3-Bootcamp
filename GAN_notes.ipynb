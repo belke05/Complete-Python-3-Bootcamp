{
  "nbformat": 4,
  "nbformat_minor": 0,
  "metadata": {
    "colab": {
      "name": "2. simple_GAN_notes.ipynb",
      "provenance": [],
      "collapsed_sections": [
        "ntaL99qnF6-X",
        "MaZNEWYQNrYL",
        "Qcw63FyFR-yb"
      ]
    },
    "kernelspec": {
      "name": "python3",
      "display_name": "Python 3"
    },
    "accelerator": "GPU"
  },
  "cells": [
    {
      "cell_type": "markdown",
      "metadata": {
        "id": "ntaL99qnF6-X",
        "colab_type": "text"
      },
      "source": [
        "# Créer des handwritten digits avec des GAN \n",
        "\n",
        "\n",
        "[GAN ou Generative Adversarial Networks](https://arxiv.org/abs/1406.2661) \n",
        "\n",
        "<img src=\"https://www.tensorflow.org/tutorials/generative/images/gan1.png\" width=400>\n",
        "\n",
        "\n",
        "During training, the generator progressively becomes better at creating images that look real, while the discriminator becomes better at telling them apart. The process reaches equilibrium when the discriminator can no longer distinguish real images from fakes."
      ]
    },
    {
      "cell_type": "code",
      "metadata": {
        "id": "8O9B7Fc4F4Wm",
        "colab_type": "code",
        "outputId": "2a45628b-880e-4688-9f6b-2ce2087573d4",
        "colab": {
          "base_uri": "https://localhost:8080/",
          "height": 422
        }
      },
      "source": [
        "!pip install tensorflow-gpu==2.0.0beta1\n",
        "!pip install pprint \n",
        "!pip install simple_chalk\n",
        "from simple_chalk import chalk, green, red, blue\n",
        "import tensorflow as tf, numpy as np , matplotlib.pyplot as plt, os, pandas as pd\n",
        "from pprint import pprint\n",
        "from IPython import display\n",
        "import time\n",
        "import os \n",
        "import glob"
      ],
      "execution_count": 121,
      "outputs": [
        {
          "output_type": "stream",
          "text": [
            "Requirement already satisfied: tensorflow-gpu==2.0.0beta1 in /usr/local/lib/python3.6/dist-packages (2.0.0b1)\n",
            "Requirement already satisfied: keras-preprocessing>=1.0.5 in /usr/local/lib/python3.6/dist-packages (from tensorflow-gpu==2.0.0beta1) (1.1.0)\n",
            "Requirement already satisfied: six>=1.10.0 in /usr/local/lib/python3.6/dist-packages (from tensorflow-gpu==2.0.0beta1) (1.12.0)\n",
            "Requirement already satisfied: wrapt>=1.11.1 in /usr/local/lib/python3.6/dist-packages (from tensorflow-gpu==2.0.0beta1) (1.11.2)\n",
            "Requirement already satisfied: gast>=0.2.0 in /usr/local/lib/python3.6/dist-packages (from tensorflow-gpu==2.0.0beta1) (0.2.2)\n",
            "Requirement already satisfied: grpcio>=1.8.6 in /usr/local/lib/python3.6/dist-packages (from tensorflow-gpu==2.0.0beta1) (1.15.0)\n",
            "Requirement already satisfied: wheel>=0.26 in /usr/local/lib/python3.6/dist-packages (from tensorflow-gpu==2.0.0beta1) (0.33.6)\n",
            "Requirement already satisfied: keras-applications>=1.0.6 in /usr/local/lib/python3.6/dist-packages (from tensorflow-gpu==2.0.0beta1) (1.0.8)\n",
            "Requirement already satisfied: protobuf>=3.6.1 in /usr/local/lib/python3.6/dist-packages (from tensorflow-gpu==2.0.0beta1) (3.10.0)\n",
            "Requirement already satisfied: tb-nightly<1.14.0a20190604,>=1.14.0a20190603 in /usr/local/lib/python3.6/dist-packages (from tensorflow-gpu==2.0.0beta1) (1.14.0a20190603)\n",
            "Requirement already satisfied: termcolor>=1.1.0 in /usr/local/lib/python3.6/dist-packages (from tensorflow-gpu==2.0.0beta1) (1.1.0)\n",
            "Requirement already satisfied: absl-py>=0.7.0 in /usr/local/lib/python3.6/dist-packages (from tensorflow-gpu==2.0.0beta1) (0.8.1)\n",
            "Requirement already satisfied: tf-estimator-nightly<1.14.0.dev2019060502,>=1.14.0.dev2019060501 in /usr/local/lib/python3.6/dist-packages (from tensorflow-gpu==2.0.0beta1) (1.14.0.dev2019060501)\n",
            "Requirement already satisfied: google-pasta>=0.1.6 in /usr/local/lib/python3.6/dist-packages (from tensorflow-gpu==2.0.0beta1) (0.1.8)\n",
            "Requirement already satisfied: astor>=0.6.0 in /usr/local/lib/python3.6/dist-packages (from tensorflow-gpu==2.0.0beta1) (0.8.0)\n",
            "Requirement already satisfied: numpy<2.0,>=1.14.5 in /usr/local/lib/python3.6/dist-packages (from tensorflow-gpu==2.0.0beta1) (1.17.4)\n",
            "Requirement already satisfied: h5py in /usr/local/lib/python3.6/dist-packages (from keras-applications>=1.0.6->tensorflow-gpu==2.0.0beta1) (2.8.0)\n",
            "Requirement already satisfied: setuptools in /usr/local/lib/python3.6/dist-packages (from protobuf>=3.6.1->tensorflow-gpu==2.0.0beta1) (42.0.2)\n",
            "Requirement already satisfied: markdown>=2.6.8 in /usr/local/lib/python3.6/dist-packages (from tb-nightly<1.14.0a20190604,>=1.14.0a20190603->tensorflow-gpu==2.0.0beta1) (3.1.1)\n",
            "Requirement already satisfied: werkzeug>=0.11.15 in /usr/local/lib/python3.6/dist-packages (from tb-nightly<1.14.0a20190604,>=1.14.0a20190603->tensorflow-gpu==2.0.0beta1) (0.16.0)\n",
            "Requirement already satisfied: pprint in /usr/local/lib/python3.6/dist-packages (0.1)\n",
            "Requirement already satisfied: simple_chalk in /usr/local/lib/python3.6/dist-packages (0.1.0)\n"
          ],
          "name": "stdout"
        }
      ]
    },
    {
      "cell_type": "markdown",
      "metadata": {
        "id": "plRXJPYOIoyz",
        "colab_type": "text"
      },
      "source": [
        "* get data [`tf.keras.datasets.mnist`](https://www.tensorflow.org/api_docs/python/tf/keras/datasets)"
      ]
    },
    {
      "cell_type": "code",
      "metadata": {
        "id": "mLAkx8r8RDhx",
        "colab_type": "code",
        "colab": {
          "base_uri": "https://localhost:8080/",
          "height": 87
        },
        "outputId": "2a2d3e52-5391-4ed7-9c29-5875892ae763"
      },
      "source": [
        "mnist_data = tf.keras.datasets.mnist.load_data()\n",
        "x_train, y_train = mnist_data[0]\n",
        "print(red(x_train.shape), red('is the shape for train img'))\n",
        "print(red(y_train.shape), red('is the shape for train labels'))\n",
        "\n",
        "x_test, y_test = mnist_data[1]\n",
        "print(green(x_test.shape), green('is the shape for test img'))\n",
        "print(green(y_test.shape), green('is the shape for test labels'))\n",
        "\n",
        "WIDTH = x_train.shape[-1]\n",
        "HEIGHT = x_train.shape[-2]\n",
        "TEST_SAMPLES = y_test.shape[0]\n",
        "TRAIN_SAMPLES = y_test.shape[0]"
      ],
      "execution_count": 123,
      "outputs": [
        {
          "output_type": "stream",
          "text": [
            "\u001b[31m(60000, 28, 28)\u001b[0m \u001b[31mis the shape for train img\u001b[0m\n",
            "\u001b[31m(60000,)\u001b[0m \u001b[31mis the shape for train labels\u001b[0m\n",
            "\u001b[32m(10000, 28, 28)\u001b[0m \u001b[32mis the shape for test img\u001b[0m\n",
            "\u001b[32m(10000,)\u001b[0m \u001b[32mis the shape for test labels\u001b[0m\n"
          ],
          "name": "stdout"
        }
      ]
    },
    {
      "cell_type": "markdown",
      "metadata": {
        "id": "nnJEYEbGJK1Q",
        "colab_type": "text"
      },
      "source": [
        "<h3> pre processing </h3>\n",
        "\n",
        "  * reshape images into following form (sample, height, width, channels = 1). \n",
        "  * make images `float32`\n",
        "  * we want pixels between intervals [-1, 1]. Vous pourrez tout simplement soustraire chacun des pixels par 127.5 (255/2) puis diviser le tout par 127.5 (255/2)"
      ]
    },
    {
      "cell_type": "markdown",
      "metadata": {
        "id": "1LTv_q3uUy3B",
        "colab_type": "text"
      },
      "source": [
        "If you reshape it with a -1 in the first dimension what you are doing is saying that you will feed in a 4D batch of images (shaped [batch_size, height, width, color_channels], and you are allowing the batch size to be dynamic (which is common to do)."
      ]
    },
    {
      "cell_type": "code",
      "metadata": {
        "id": "C52FSdZ_Sxie",
        "colab_type": "code",
        "colab": {
          "base_uri": "https://localhost:8080/",
          "height": 1000
        },
        "outputId": "f34b8fe4-81e4-4074-8bea-ac99d01f73fd"
      },
      "source": [
        "X_train = tf.reshape(x_train, [-1, HEIGHT, WIDTH, 1])\n",
        "X_train = tf.cast(X_train, dtype=tf.float32)\n",
        "print(X_train[0][10].numpy(), red('pixel values line 10'))\n",
        "X_train = X_train / 255\n",
        "print(X_train[0][10].numpy(), green('normalized pixel values line 10'))\n",
        "X_train.shape"
      ],
      "execution_count": 124,
      "outputs": [
        {
          "output_type": "stream",
          "text": [
            "[[  0.]\n",
            " [  0.]\n",
            " [  0.]\n",
            " [  0.]\n",
            " [  0.]\n",
            " [  0.]\n",
            " [  0.]\n",
            " [  0.]\n",
            " [  0.]\n",
            " [ 14.]\n",
            " [  1.]\n",
            " [154.]\n",
            " [253.]\n",
            " [ 90.]\n",
            " [  0.]\n",
            " [  0.]\n",
            " [  0.]\n",
            " [  0.]\n",
            " [  0.]\n",
            " [  0.]\n",
            " [  0.]\n",
            " [  0.]\n",
            " [  0.]\n",
            " [  0.]\n",
            " [  0.]\n",
            " [  0.]\n",
            " [  0.]\n",
            " [  0.]] \u001b[31mpixel values line 10\u001b[0m\n",
            "[[0.        ]\n",
            " [0.        ]\n",
            " [0.        ]\n",
            " [0.        ]\n",
            " [0.        ]\n",
            " [0.        ]\n",
            " [0.        ]\n",
            " [0.        ]\n",
            " [0.        ]\n",
            " [0.05490196]\n",
            " [0.00392157]\n",
            " [0.6039216 ]\n",
            " [0.99215686]\n",
            " [0.3529412 ]\n",
            " [0.        ]\n",
            " [0.        ]\n",
            " [0.        ]\n",
            " [0.        ]\n",
            " [0.        ]\n",
            " [0.        ]\n",
            " [0.        ]\n",
            " [0.        ]\n",
            " [0.        ]\n",
            " [0.        ]\n",
            " [0.        ]\n",
            " [0.        ]\n",
            " [0.        ]\n",
            " [0.        ]] \u001b[32mnormalized pixel values line 10\u001b[0m\n"
          ],
          "name": "stdout"
        },
        {
          "output_type": "execute_result",
          "data": {
            "text/plain": [
              "TensorShape([60000, 28, 28, 1])"
            ]
          },
          "metadata": {
            "tags": []
          },
          "execution_count": 124
        }
      ]
    },
    {
      "cell_type": "markdown",
      "metadata": {
        "id": "rhl-n_U4Kgqu",
        "colab_type": "text"
      },
      "source": [
        "Random image display"
      ]
    },
    {
      "cell_type": "code",
      "metadata": {
        "id": "u8uXrGtQXVII",
        "colab_type": "code",
        "colab": {
          "base_uri": "https://localhost:8080/",
          "height": 265
        },
        "outputId": "e686b32c-ff69-4a1c-d607-58e72d294d71"
      },
      "source": [
        "random_index = np.random.randint(TRAIN_SAMPLES)\n",
        "random_images = X_train[random_index]\n",
        "squeezed_img = tf.squeeze(random_images)\n",
        "plt.axis('off')\n",
        "plt.imshow(squeezed_img)"
      ],
      "execution_count": 125,
      "outputs": [
        {
          "output_type": "execute_result",
          "data": {
            "text/plain": [
              "<matplotlib.image.AxesImage at 0x7f8c256ccb38>"
            ]
          },
          "metadata": {
            "tags": []
          },
          "execution_count": 125
        },
        {
          "output_type": "display_data",
          "data": {
            "image/png": "[encoded data removed]",
            "text/plain": [
              "<Figure size 432x288 with 1 Axes>"
            ]
          },
          "metadata": {
            "tags": []
          }
        }
      ]
    },
    {
      "cell_type": "markdown",
      "metadata": {
        "id": "43IiifiAK3j7",
        "colab_type": "text"
      },
      "source": [
        "[`tf.data.Dataset`](https://www.tensorflow.org/api_docs/python/tf/data/Dataset)\n",
        "\n",
        "we will use dataset_x_train in the the end to train our generator "
      ]
    },
    {
      "cell_type": "code",
      "metadata": {
        "id": "ZWFfyoTGKnEg",
        "colab_type": "code",
        "colab": {}
      },
      "source": [
        "BATCH_SIZE = 256\n",
        "BUFFER_SIZE = 6000\n",
        "dataset_x_train  = tf.data.Dataset.from_tensor_slices(X_train).shuffle(BUFFER_SIZE).batch(BATCH_SIZE)\n",
        "dataset_y_train = tf.data.Dataset.from_tensor_slices(y_train).shuffle(BUFFER_SIZE).batch(BATCH_SIZE)\n",
        "dataset_train = tf.data.Dataset.zip((dataset_x_train, dataset_y_train)).shuffle(BUFFER_SIZE).batch(BATCH_SIZE)"
      ],
      "execution_count": 0,
      "outputs": []
    },
    {
      "cell_type": "code",
      "metadata": {
        "id": "ZBeOX3vNZJoJ",
        "colab_type": "code",
        "colab": {
          "base_uri": "https://localhost:8080/",
          "height": 1000
        },
        "outputId": "4cfbb19a-c7c0-4f95-fd89-5da4a1f49e35"
      },
      "source": [
        "X_test = tf.reshape(x_test, [-1, HEIGHT, WIDTH, 1])\n",
        "X_test = tf.cast(X_test, dtype=tf.float32)\n",
        "print(X_test[0][10].numpy(), red('pixel values line 10'))\n",
        "X_test = (X_test - 127.5) / 127.5 # we use tang activation func in end so needs to be within -1/1\n",
        "print(X_test[0][10].numpy(), green('normalized pixel values line 10'))\n",
        "X_test.shape"
      ],
      "execution_count": 127,
      "outputs": [
        {
          "output_type": "stream",
          "text": [
            "[[  0.]\n",
            " [  0.]\n",
            " [  0.]\n",
            " [  0.]\n",
            " [  0.]\n",
            " [  0.]\n",
            " [  0.]\n",
            " [  0.]\n",
            " [  0.]\n",
            " [  0.]\n",
            " [  0.]\n",
            " [ 17.]\n",
            " [ 66.]\n",
            " [ 14.]\n",
            " [ 67.]\n",
            " [ 67.]\n",
            " [ 67.]\n",
            " [ 59.]\n",
            " [ 21.]\n",
            " [236.]\n",
            " [254.]\n",
            " [106.]\n",
            " [  0.]\n",
            " [  0.]\n",
            " [  0.]\n",
            " [  0.]\n",
            " [  0.]\n",
            " [  0.]] \u001b[31mpixel values line 10\u001b[0m\n",
            "[[-1.        ]\n",
            " [-1.        ]\n",
            " [-1.        ]\n",
            " [-1.        ]\n",
            " [-1.        ]\n",
            " [-1.        ]\n",
            " [-1.        ]\n",
            " [-1.        ]\n",
            " [-1.        ]\n",
            " [-1.        ]\n",
            " [-1.        ]\n",
            " [-0.8666667 ]\n",
            " [-0.48235294]\n",
            " [-0.8901961 ]\n",
            " [-0.4745098 ]\n",
            " [-0.4745098 ]\n",
            " [-0.4745098 ]\n",
            " [-0.5372549 ]\n",
            " [-0.8352941 ]\n",
            " [ 0.8509804 ]\n",
            " [ 0.99215686]\n",
            " [-0.16862746]\n",
            " [-1.        ]\n",
            " [-1.        ]\n",
            " [-1.        ]\n",
            " [-1.        ]\n",
            " [-1.        ]\n",
            " [-1.        ]] \u001b[32mnormalized pixel values line 10\u001b[0m\n"
          ],
          "name": "stdout"
        },
        {
          "output_type": "execute_result",
          "data": {
            "text/plain": [
              "TensorShape([10000, 28, 28, 1])"
            ]
          },
          "metadata": {
            "tags": []
          },
          "execution_count": 127
        }
      ]
    },
    {
      "cell_type": "code",
      "metadata": {
        "id": "Ir-A73VAL9mx",
        "colab_type": "code",
        "outputId": "fd71d4c8-099d-4d53-c1bc-51048b5c574b",
        "colab": {
          "base_uri": "https://localhost:8080/",
          "height": 52
        }
      },
      "source": [
        "features, labels = next(iter(dataset_train.take(1)))\n",
        "print(features.shape)\n",
        "print(labels.shape)"
      ],
      "execution_count": 128,
      "outputs": [
        {
          "output_type": "stream",
          "text": [
            "(256, 28, 28, 1)\n",
            "(256,)\n"
          ],
          "name": "stdout"
        }
      ]
    },
    {
      "cell_type": "markdown",
      "metadata": {
        "id": "2qEHJ74InWpN",
        "colab_type": "text"
      },
      "source": [
        "How it works\n",
        "\n",
        "<img src=\"https://miro.medium.com/max/1814/1*Sqhji7Zz4IK2HDgCOabhXQ.png\" width=500>"
      ]
    },
    {
      "cell_type": "markdown",
      "metadata": {
        "id": "MaZNEWYQNrYL",
        "colab_type": "text"
      },
      "source": [
        "# _generator_. \n",
        "\n",
        "1.  takes noise as input than we increasingly our generated images become better. this is our seed \n",
        "\n",
        "2.  A first dense layer will take this input\n",
        "\n",
        "3.  upscaling until we get the image of size (28,28,1)\n",
        "\n",
        "🚨🚨 Notice the tf.keras.layers.LeakyReLU activation for each layer, except the output layer which uses tanh. 🚨🚨 \n"
      ]
    },
    {
      "cell_type": "code",
      "metadata": {
        "id": "P66bOjuHeCti",
        "colab_type": "code",
        "colab": {}
      },
      "source": [
        "NOISE_N = 100\n",
        "IMAGE_DIM = 28\n",
        "\n",
        "noise = tf.random.normal([1,100])\n",
        "\n",
        "# in between we have trainable Weights and Bias\n",
        "\n",
        "def make_generator_model():\n",
        "    model = tf.keras.Sequential()\n",
        "    # 7w by 7h 256filters \n",
        "    model.add(tf.keras.layers.Dense(7*7*256, use_bias=False, input_shape=(NOISE_N,)))\n",
        "    # avoid overfitting \n",
        "    model.add(tf.keras.layers.BatchNormalization())\n",
        "    model.add(tf.keras.layers.LeakyReLU())\n",
        "\n",
        "    model.add(tf.keras.layers.Reshape((7, 7, 256)))\n",
        "    assert model.output_shape == (None, 7, 7, 256) # Note: None is the batch size\n",
        "\n",
        "    # conv is matrix if you multiply this by an img you get output conv \n",
        "    # here we want to do the reverse \n",
        "    model.add(tf.keras.layers.Conv2DTranspose(128, (5, 5), strides=(1, 1), padding='same', use_bias=False))\n",
        "    assert model.output_shape == (None, 7, 7, 128)\n",
        "    model.add(tf.keras.layers.BatchNormalization())\n",
        "    model.add(tf.keras.layers.LeakyReLU())\n",
        "\n",
        "    # 2x2 stride because we do inverse of conv\n",
        "    model.add(tf.keras.layers.Conv2DTranspose(64, (5, 5), strides=(2, 2), padding='same', use_bias=False))\n",
        "    assert model.output_shape == (None, 14, 14, 64)\n",
        "    model.add(tf.keras.layers.BatchNormalization())\n",
        "    model.add(tf.keras.layers.LeakyReLU())\n",
        "\n",
        "    model.add(tf.keras.layers.Conv2DTranspose(1, (5, 5), strides=(2, 2), padding='same', use_bias=False, activation='tanh'))\n",
        "    # our last upscaling we want to be sure it is the dimensions of the image\n",
        "    assert model.output_shape == (None, IMAGE_DIM, IMAGE_DIM, 1)\n",
        "\n",
        "    return model\n"
      ],
      "execution_count": 0,
      "outputs": []
    },
    {
      "cell_type": "markdown",
      "metadata": {
        "id": "iV010y8QO8AZ",
        "colab_type": "text"
      },
      "source": [
        "[LeakyRelu()](https://www.tensorflow.org/versions/r2.0/api_docs/python/tf/keras/layers/LeakyReLU) \n",
        "\n",
        "It allows a small gradient \n",
        "\n",
        "*  when the unit is not active: f(x) = alpha * x for x < 0 --> leaves a gradient instead of putting the neuron at 0 when not active (what relu does)\n",
        "*  f(x) = x for x >= 0.\n",
        "\n",
        "\n",
        " [_Conv2DTranspose_](https://www.tensorflow.org/versions/r2.0/api_docs/python/tf/keras/layers/Conv2DTranspose)\n",
        "\n",
        "The need for transposed convolutions generally arises from the desire to use a transformation going in the opposite direction of a normal convolution, i.e., from something that has the shape of the output of some convolution to something that has the shape of its input while maintaining a connectivity pattern that is compatible with said convolution.\n"
      ]
    },
    {
      "cell_type": "markdown",
      "metadata": {
        "id": "fqTLjPpvQ58X",
        "colab_type": "text"
      },
      "source": [
        "* random noise image: \n",
        "  * tensor with random pixels ---> [`tf.random.normal`](https://www.tensorflow.org/api_docs/python/tf/random/normal)\n",
        "  * apply the noise to the generator \n",
        "  * Visualisez avec plt"
      ]
    },
    {
      "cell_type": "code",
      "metadata": {
        "id": "3Fo3N8ybhpuP",
        "colab_type": "code",
        "colab": {
          "base_uri": "https://localhost:8080/",
          "height": 283
        },
        "outputId": "a2c0df9c-da90-48ce-ad5e-d64aa1253d21"
      },
      "source": [
        "generator = make_generator_model()\n",
        "rndm_img = generator(noise)\n",
        "print(rndm_img.shape)\n",
        "plt.axis('off')\n",
        "plt.imshow(tf.squeeze(rndm_img))"
      ],
      "execution_count": 130,
      "outputs": [
        {
          "output_type": "stream",
          "text": [
            "(1, 28, 28, 1)\n"
          ],
          "name": "stdout"
        },
        {
          "output_type": "execute_result",
          "data": {
            "text/plain": [
              "<matplotlib.image.AxesImage at 0x7f8c25446e48>"
            ]
          },
          "metadata": {
            "tags": []
          },
          "execution_count": 130
        },
        {
          "output_type": "display_data",
          "data": {
            "image/png": "[encoded data removed]",
            "text/plain": [
              "<Figure size 432x288 with 1 Axes>"
            ]
          },
          "metadata": {
            "tags": []
          }
        }
      ]
    },
    {
      "cell_type": "markdown",
      "metadata": {
        "id": "Qcw63FyFR-yb",
        "colab_type": "text"
      },
      "source": [
        "# __Discriminator__\n",
        "\n",
        "= will try to predict if our generated image is a true one or not so can be a binary classifier \n",
        "\n",
        "*  Dense layer: A linear operation in which every input is connected to every output by a weight (so there are n_inputs * n_outputs weights - which can be a lot!). Generally followed by a non-linear activation function\n",
        "*  Convolutional layer: A linear operation using a subset of the weights of a dense layer. Nearby inputs are connected to nearby outputs (specifically - a convolution 713 ). The weights for the convolutions at each location are shared. Due to the weight sharing, and the use of a subset of the weights of a dense layer, there’s far less weights than in a dense layer. Generally followed by a non-linear activation function\n",
        "*  Pooling layer: Replace each patch in the input with a single output, which is the maximum (can also be average) of the input patch\n",
        "*  Normalisation layer: Scale the input so that the output has near to a zero mean and unit standard deviation, to allow for faster and more resilient training"
      ]
    },
    {
      "cell_type": "code",
      "metadata": {
        "id": "URqEW06aRrfQ",
        "colab_type": "code",
        "colab": {}
      },
      "source": [
        "# output this time is 0/1 --> 0 false 1 true \n",
        "def make_discriminator_model():\n",
        "    model = tf.keras.Sequential()\n",
        "    model.add(tf.keras.layers.Conv2D(64, (5, 5), strides=(2, 2), padding='same',\n",
        "                                     input_shape=[IMAGE_DIM, IMAGE_DIM, 1]))\n",
        "    model.add(tf.keras.layers.LeakyReLU())\n",
        "    model.add(tf.keras.layers.Dropout(0.3))\n",
        "\n",
        "    model.add(tf.keras.layers.Conv2D(128, (5, 5), strides=(2, 2), padding='same'))\n",
        "    model.add(tf.keras.layers.LeakyReLU())\n",
        "    # adds some non linearity \n",
        "    model.add(tf.keras.layers.Dropout(0.3))\n",
        "\n",
        "    model.add(tf.keras.layers.Flatten())\n",
        "    # to go from conv to dense\n",
        "    model.add(tf.keras.layers.Dense(1))\n",
        "\n",
        "    return model"
      ],
      "execution_count": 0,
      "outputs": []
    },
    {
      "cell_type": "markdown",
      "metadata": {
        "id": "S4-fQX2GWVTr",
        "colab_type": "text"
      },
      "source": [
        "* test predictions of our discriminator"
      ]
    },
    {
      "cell_type": "code",
      "metadata": {
        "id": "C9vWLz1mmT3M",
        "colab_type": "code",
        "colab": {
          "base_uri": "https://localhost:8080/",
          "height": 34
        },
        "outputId": "2130a39e-c08b-4d28-e81c-facfac93e46e"
      },
      "source": [
        "discriminator = make_discriminator_model()\n",
        "decision = discriminator(rndm_img)\n",
        "print(green(decision))"
      ],
      "execution_count": 149,
      "outputs": [
        {
          "output_type": "stream",
          "text": [
            "\u001b[32m[[-0.00140939]]\u001b[0m\n"
          ],
          "name": "stdout"
        }
      ]
    },
    {
      "cell_type": "code",
      "metadata": {
        "id": "Ee1KKAMExMJ_",
        "colab_type": "code",
        "colab": {
          "base_uri": "https://localhost:8080/",
          "height": 52
        },
        "outputId": "7c72e14f-2797-4cab-b64e-a50da06d5f8e"
      },
      "source": [
        "decision2 = discriminator(np.random.rand(1,28,28,1).astype(\"float32\"))\n",
        "print(decision2)\n",
        "print(red('closer to 0 means it classifies it as fake'))"
      ],
      "execution_count": 150,
      "outputs": [
        {
          "output_type": "stream",
          "text": [
            "tf.Tensor([[0.01260547]], shape=(1, 1), dtype=float32)\n",
            "\u001b[31mcloser to 0 means it classifies it as fake\u001b[0m\n"
          ],
          "name": "stdout"
        }
      ]
    },
    {
      "cell_type": "markdown",
      "metadata": {
        "id": "_nP6YsTAWqRj",
        "colab_type": "text"
      },
      "source": [
        "# Loss functions \n",
        "\n",
        "\n",
        "  * **discriminator_loss** \n",
        "  * **generator_loss** \n",
        "  \n",
        "<img src=\"https://i.stack.imgur.com/rNI4P.png\" width=500>"
      ]
    },
    {
      "cell_type": "code",
      "metadata": {
        "id": "N-tB_T12WjD5",
        "colab_type": "code",
        "colab": {}
      },
      "source": [
        "cross_entropy = tf.keras.losses.BinaryCrossentropy(from_logits=True)"
      ],
      "execution_count": 0,
      "outputs": []
    },
    {
      "cell_type": "code",
      "metadata": {
        "id": "MWqSPu-aX_L2",
        "colab_type": "code",
        "colab": {
          "base_uri": "https://localhost:8080/",
          "height": 104
        },
        "outputId": "b54192a1-2cb5-499b-f210-16b94b721dc0"
      },
      "source": [
        "# real_img_pred = discriminator(real_images)\n",
        "# fake_img_pred = discriminator(real_images)\n",
        "print(red('the predictions look like this'),  decision)\n",
        "print(green('the ones like looks like this'),  tf.ones_like(decision))\n",
        "print(blue('the zero like looks like this'),  tf.zeros_like(decision))\n",
        "print(red('example of cross entropy real'),  cross_entropy(tf.ones_like(decision), decision))\n",
        "print(green('example of cross entropy fake'),  cross_entropy(tf.zeros_like(decision), decision))\n",
        "\n",
        "def discriminator_loss(real_img_predictions, fake_img_predictions):\n",
        "  real_loss = cross_entropy(tf.ones_like(real_img_predictions), real_img_predictions) \n",
        "  # we use ones because the values should be 1 \n",
        "  # the real entropy / loss will be bigger if real_img_predictions is close to 0 which means \n",
        "  # the discrim thinks it is fake\n",
        "  fake_loss = cross_entropy(tf.zeros_like(fake_img_predictions), fake_img_predictions)\n",
        "  # we use zeros because the values should be 0 -- because these are fakes\n",
        "  # the fake entropy / loss will be bigger if fake_img_predictions is close to 1 which means \n",
        "  # the discrim thinks it is real \n",
        "  total_loss = real_loss + fake_loss\n",
        "  return total_loss\n",
        "  # in total we want total loss to be low because \n",
        "  # this means it does well in telling that fake is fake and real is real "
      ],
      "execution_count": 152,
      "outputs": [
        {
          "output_type": "stream",
          "text": [
            "\u001b[31mthe predictions look like this\u001b[0m tf.Tensor([[-0.00140939]], shape=(1, 1), dtype=float32)\n",
            "\u001b[32mthe ones like looks like this\u001b[0m tf.Tensor([[1.]], shape=(1, 1), dtype=float32)\n",
            "\u001b[34mthe zero like looks like this\u001b[0m tf.Tensor([[0.]], shape=(1, 1), dtype=float32)\n",
            "\u001b[31mexample of cross entropy real\u001b[0m tf.Tensor(0.6938521, shape=(), dtype=float32)\n",
            "\u001b[32mexample of cross entropy fake\u001b[0m tf.Tensor(0.6924427, shape=(), dtype=float32)\n"
          ],
          "name": "stdout"
        }
      ]
    },
    {
      "cell_type": "markdown",
      "metadata": {
        "id": "jUah8h88a2bS",
        "colab_type": "text"
      },
      "source": [
        "* `generator_loss` which finds at which moment do we dupe `discriminator`. \n",
        "\n",
        "*  `generator_loss` will go down if `discriminator` defines fake img as a real one\n",
        "\n",
        "*  if the prediction is closer to 1 this means our generator is doing better / for this our generator should be rewarded \n",
        "\n",
        "*  which also means our cross_entropy / loss will diminish"
      ]
    },
    {
      "cell_type": "code",
      "metadata": {
        "id": "xFUG81sKat7-",
        "colab_type": "code",
        "colab": {}
      },
      "source": [
        "def generator_loss(fake_img_predictions):\n",
        "  return cross_entropy(tf.ones_like(fake_img_predictions), fake_img_predictions)"
      ],
      "execution_count": 0,
      "outputs": []
    },
    {
      "cell_type": "markdown",
      "metadata": {
        "id": "KjIuU_7PcCd7",
        "colab_type": "text"
      },
      "source": [
        "* Définissons maintenant deux optimiseurs pour nos deux fonctions de coût. Créez deux optimiseurs Adam avec un learning rate à `1e-4` chacun "
      ]
    },
    {
      "cell_type": "code",
      "metadata": {
        "id": "foP-A9yqcBZS",
        "colab_type": "code",
        "colab": {}
      },
      "source": [
        "lr = 0.001\n",
        "\n",
        "optimizer_generator = tf.keras.optimizers.Adam(learning_rate=lr)\n",
        "optimizer_discriminator = tf.keras.optimizers.Adam(learning_rate=lr)"
      ],
      "execution_count": 0,
      "outputs": []
    },
    {
      "cell_type": "markdown",
      "metadata": {
        "id": "aSXRZr5ocg_1",
        "colab_type": "text"
      },
      "source": [
        "# training training training\n",
        "\n",
        "---\n",
        "\n",
        "start by defining some variables:\n",
        "\n",
        "\n",
        "\n",
        "*  EPOCHS / NOISE_N \n",
        "\n",
        "*  num_examples_to_generate = 16 (random images to make)\n",
        "\n",
        "*  seed = tf.random.normal([num_examples_to_generate, noise_dim]) ----> our random images seed array  "
      ]
    },
    {
      "cell_type": "code",
      "metadata": {
        "id": "P2trFkvbcTX_",
        "colab_type": "code",
        "colab": {}
      },
      "source": [
        "EPOCHS = 50\n",
        "num_examples_to_generate = 16\n",
        "SEED = tf.random.normal([num_examples_to_generate, NOISE_N])"
      ],
      "execution_count": 0,
      "outputs": []
    },
    {
      "cell_type": "code",
      "metadata": {
        "id": "g3KH3sw35rky",
        "colab_type": "code",
        "colab": {}
      },
      "source": [
        "def calc_apply_gradients(fake_img_predictions ,\n",
        "              real_img_predictions, \n",
        "              generator_model=generator, \n",
        "              discriminator_model=discriminator, \n",
        "              generator_optimizer=optimizer_generator, \n",
        "              discriminator_optimizer=optimizer_discriminator):\n",
        "  \n",
        "  with tf.GradientTape() as gen_tape, tf.GradientTape() as disc_tape:\n",
        "    # our loss function is cross entropy\n",
        "    gen_loss = generator_loss(fake_img_predictions) # will be rewarded if discriminator makes mistakes\n",
        "    disc_loss = discriminator_loss(real_img_predictions, fake_img_predictions)\n",
        "    \n",
        "    \n",
        "  gen_gradients = gen_tape.gradient(gen_loss, generator_model.trainable_variables)\n",
        "  disc_gradients = disc_tape.gradient(disc_loss, discriminator_model.trainable_variables)\n",
        "\n",
        "  # we need to apply the found gradients to the variables of the model \n",
        "  generator_optimizer.apply_gradients(zip(gen_gradients, generator_model.trainable_variables))\n",
        "  discriminator_optimizer.apply_gradients(zip(disc_gradients, discriminator_model.trainable_variables))\n",
        "  return"
      ],
      "execution_count": 0,
      "outputs": []
    },
    {
      "cell_type": "markdown",
      "metadata": {
        "id": "Uof7Ybcnd7gc",
        "colab_type": "text"
      },
      "source": [
        "------\n",
        "\n",
        "<h1>Train step</h1>\n"
      ]
    },
    {
      "cell_type": "code",
      "metadata": {
        "id": "loDB0kH1d64N",
        "colab_type": "code",
        "colab": {}
      },
      "source": [
        "def step_train(imagebatch):\n",
        "  noise=tf.random.normal([BATCH_SIZE, NOISE_N])\n",
        "  \n",
        "  \n",
        "  with tf.GradientTape() as gen_tape, tf.GradientTape() as disc_tape:\n",
        "    generated_img = generator(noise)\n",
        "    real_img_predictions = discriminator(imagebatch)\n",
        "    fake_img_predictions = discriminator(generated_img)\n",
        "    # our loss function is cross entropy\n",
        "    gen_loss = generator_loss(fake_img_predictions) # will be rewarded if discriminator makes mistakes\n",
        "    disc_loss = discriminator_loss(real_img_predictions, fake_img_predictions)\n",
        "    \n",
        "    \n",
        "  gen_gradients = gen_tape.gradient(gen_loss, generator.trainable_variables)\n",
        "  disc_gradients = disc_tape.gradient(disc_loss, discriminator.trainable_variables)\n",
        "\n",
        "  # we need to apply the found gradients to the variables of the model \n",
        "  optimizer_generator.apply_gradients(zip(gen_gradients, generator.trainable_variables))\n",
        "  optimizer_discriminator.apply_gradients(zip(disc_gradients, discriminator.trainable_variables))\n"
      ],
      "execution_count": 0,
      "outputs": []
    },
    {
      "cell_type": "code",
      "metadata": {
        "id": "IQuGOqJB-bKS",
        "colab_type": "code",
        "colab": {}
      },
      "source": [
        "def train(dataset, epochs):\n",
        "  for epoch in range(epochs):\n",
        "    start = time.time()\n",
        "\n",
        "    for image_batch in dataset:\n",
        "      step_train(image_batch)\n",
        "\n",
        "    # Produce images for the GIF as we go\n",
        "    display.clear_output(wait=True)\n",
        "    generate_and_save_images(generator,\n",
        "                             epoch + 1,\n",
        "                             SEED)\n",
        "\n",
        "    # Save the model every 15 epochs\n",
        "    if (epoch + 1) % 15 == 0:\n",
        "      checkpoint.save(file_prefix = checkpoint_prefix)\n",
        "\n",
        "    print ('Time for epoch {} is {} sec'.format(epoch + 1, time.time()-start))\n",
        "\n",
        "  # Generate after the final epoch\n",
        "  display.clear_output(wait=True)\n",
        "  generate_and_save_images(generator,\n",
        "                           epochs,\n",
        "                           SEED)"
      ],
      "execution_count": 0,
      "outputs": []
    },
    {
      "cell_type": "code",
      "metadata": {
        "id": "ZpA6_QzNer3I",
        "colab_type": "code",
        "colab": {}
      },
      "source": [
        "def generate_and_save_images(model, epoch, test_input):\n",
        "  # Notice `training` is set to False.\n",
        "  # This is so all layers run in inference mode (batchnorm).\n",
        "  predictions = model(test_input, training=False)\n",
        "\n",
        "  fig = plt.figure(figsize=(4,4))\n",
        "\n",
        "  for i in range(predictions.shape[0]):\n",
        "      plt.subplot(4, 4, i+1)\n",
        "      plt.imshow(predictions[i, :, :, 0] * 127.5 + 127.5, cmap='gray')\n",
        "      plt.axis('off')\n",
        "\n",
        "  plt.savefig('image_at_epoch_{:04d}.png'.format(epoch))\n",
        "  plt.show()"
      ],
      "execution_count": 0,
      "outputs": []
    },
    {
      "cell_type": "code",
      "metadata": {
        "id": "1B0FRKMVeM9_",
        "colab_type": "code",
        "outputId": "7e8d3a99-a796-40df-fd0c-361565979b72",
        "colab": {
          "base_uri": "https://localhost:8080/",
          "height": 521
        }
      },
      "source": [
        "train(dataset_x_train, EPOCHS)"
      ],
      "execution_count": 172,
      "outputs": [
        {
          "output_type": "display_data",
          "data": {
            "image/png": "[encoded data removed]",
            "text/plain": [
              "<Figure size 288x288 with 16 Axes>"
            ]
          },
          "metadata": {
            "tags": []
          }
        },
        {
          "output_type": "error",
          "ename": "NameError",
          "evalue": "ignored",
          "traceback": [
            "\u001b[0;31m---------------------------------------------------------------------------\u001b[0m",
            "\u001b[0;31mNameError\u001b[0m                                 Traceback (most recent call last)",
            "\u001b[0;32m<ipython-input-172-c78145347acf>\u001b[0m in \u001b[0;36m<module>\u001b[0;34m()\u001b[0m\n\u001b[0;32m----> 1\u001b[0;31m \u001b[0mtrain\u001b[0m\u001b[0;34m(\u001b[0m\u001b[0mdataset_x_train\u001b[0m\u001b[0;34m,\u001b[0m \u001b[0mEPOCHS\u001b[0m\u001b[0;34m)\u001b[0m\u001b[0;34m\u001b[0m\u001b[0;34m\u001b[0m\u001b[0m\n\u001b[0m",
            "\u001b[0;32m<ipython-input-171-19f8a812ef81>\u001b[0m in \u001b[0;36mtrain\u001b[0;34m(dataset, epochs)\u001b[0m\n\u001b[1;32m     14\u001b[0m     \u001b[0;31m# Save the model every 15 epochs\u001b[0m\u001b[0;34m\u001b[0m\u001b[0;34m\u001b[0m\u001b[0;34m\u001b[0m\u001b[0m\n\u001b[1;32m     15\u001b[0m     \u001b[0;32mif\u001b[0m \u001b[0;34m(\u001b[0m\u001b[0mepoch\u001b[0m \u001b[0;34m+\u001b[0m \u001b[0;36m1\u001b[0m\u001b[0;34m)\u001b[0m \u001b[0;34m%\u001b[0m \u001b[0;36m15\u001b[0m \u001b[0;34m==\u001b[0m \u001b[0;36m0\u001b[0m\u001b[0;34m:\u001b[0m\u001b[0;34m\u001b[0m\u001b[0;34m\u001b[0m\u001b[0m\n\u001b[0;32m---> 16\u001b[0;31m       \u001b[0mcheckpoint\u001b[0m\u001b[0;34m.\u001b[0m\u001b[0msave\u001b[0m\u001b[0;34m(\u001b[0m\u001b[0mfile_prefix\u001b[0m \u001b[0;34m=\u001b[0m \u001b[0mcheckpoint_prefix\u001b[0m\u001b[0;34m)\u001b[0m\u001b[0;34m\u001b[0m\u001b[0;34m\u001b[0m\u001b[0m\n\u001b[0m\u001b[1;32m     17\u001b[0m \u001b[0;34m\u001b[0m\u001b[0m\n\u001b[1;32m     18\u001b[0m     \u001b[0mprint\u001b[0m \u001b[0;34m(\u001b[0m\u001b[0;34m'Time for epoch {} is {} sec'\u001b[0m\u001b[0;34m.\u001b[0m\u001b[0mformat\u001b[0m\u001b[0;34m(\u001b[0m\u001b[0mepoch\u001b[0m \u001b[0;34m+\u001b[0m \u001b[0;36m1\u001b[0m\u001b[0;34m,\u001b[0m \u001b[0mtime\u001b[0m\u001b[0;34m.\u001b[0m\u001b[0mtime\u001b[0m\u001b[0;34m(\u001b[0m\u001b[0;34m)\u001b[0m\u001b[0;34m-\u001b[0m\u001b[0mstart\u001b[0m\u001b[0;34m)\u001b[0m\u001b[0;34m)\u001b[0m\u001b[0;34m\u001b[0m\u001b[0;34m\u001b[0m\u001b[0m\n",
            "\u001b[0;31mNameError\u001b[0m: name 'checkpoint' is not defined"
          ]
        }
      ]
    }
  ]
}